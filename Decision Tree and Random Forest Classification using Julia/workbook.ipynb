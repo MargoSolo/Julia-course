{
 "cells": [
  {
   "cell_type": "markdown",
   "metadata": {},
   "source": [
    "# <center> Decision Tree Classification and Random Forest Classification with Julia"
   ]
  },
  {
   "cell_type": "markdown",
   "metadata": {},
   "source": [
    "### <center> Vinita Silaparasetty"
   ]
  },
  {
   "cell_type": "markdown",
   "metadata": {},
   "source": [
    "#### Added Packages"
   ]
  },
  {
   "cell_type": "code",
   "execution_count": 22,
   "metadata": {},
   "outputs": [
    {
     "name": "stderr",
     "output_type": "stream",
     "text": [
      "\u001b[32m\u001b[1m  Resolving\u001b[22m\u001b[39m package versions...\n",
      "\u001b[32m\u001b[1m  Installed\u001b[22m\u001b[39m ScikitLearnBase ─ v0.5.0\n",
      "\u001b[32m\u001b[1m  Installed\u001b[22m\u001b[39m DecisionTree ──── v0.10.10\n",
      "\u001b[32m\u001b[1mUpdating\u001b[22m\u001b[39m `C:\\Users\\Margarita\\.julia\\environments\\v1.5\\Project.toml`\n",
      " \u001b[90m [7806a523] \u001b[39m\u001b[92m+ DecisionTree v0.10.10\u001b[39m\n",
      "\u001b[32m\u001b[1mUpdating\u001b[22m\u001b[39m `C:\\Users\\Margarita\\.julia\\environments\\v1.5\\Manifest.toml`\n",
      " \u001b[90m [7806a523] \u001b[39m\u001b[92m+ DecisionTree v0.10.10\u001b[39m\n",
      " \u001b[90m [6e75b9c4] \u001b[39m\u001b[92m+ ScikitLearnBase v0.5.0\u001b[39m\n",
      "┌ Info: Precompiling DecisionTree [7806a523-6efd-50cb-b5f6-3fa6f1930dbb]\n",
      "└ @ Base loading.jl:1278\n",
      "WARNING: using DecisionTree.predict in module Main conflicts with an existing identifier.\n"
     ]
    }
   ],
   "source": [
    "import Pkg; Pkg.add(\"DecisionTree\")\n",
    "\n",
    "using DataFrames \n",
    "using CSV \n",
    "using DecisionTree"
   ]
  },
  {
   "cell_type": "markdown",
   "metadata": {},
   "source": [
    "<center>\n",
    "   <img src=\"https://github.com/VinitaSilaparasetty/decision-tree-julia/blob/main/types-of-glass.png?raw=true\" width=\"700\" height=\"700\">"
   ]
  },
  {
   "cell_type": "markdown",
   "metadata": {},
   "source": [
    "#### Load Data"
   ]
  },
  {
   "cell_type": "code",
   "execution_count": 50,
   "metadata": {},
   "outputs": [
    {
     "data": {
      "text/html": [
       "<table class=\"data-frame\"><thead><tr><th></th><th>RI</th><th>Na</th><th>Mg</th><th>Al</th><th>Si</th><th>K</th><th>Ca</th><th>Ba</th><th>Fe</th></tr><tr><th></th><th>Float64</th><th>Float64</th><th>Float64</th><th>Float64</th><th>Float64</th><th>Float64</th><th>Float64</th><th>Float64</th><th>Float64</th></tr></thead><tbody><p>10 rows × 10 columns (omitted printing of 1 columns)</p><tr><th>1</th><td>1.52101</td><td>13.64</td><td>4.49</td><td>1.1</td><td>71.78</td><td>0.06</td><td>8.75</td><td>0.0</td><td>0.0</td></tr><tr><th>2</th><td>1.51761</td><td>13.89</td><td>3.6</td><td>1.36</td><td>72.73</td><td>0.48</td><td>7.83</td><td>0.0</td><td>0.0</td></tr><tr><th>3</th><td>1.51618</td><td>13.53</td><td>3.55</td><td>1.54</td><td>72.99</td><td>0.39</td><td>7.78</td><td>0.0</td><td>0.0</td></tr><tr><th>4</th><td>1.51766</td><td>13.21</td><td>3.69</td><td>1.29</td><td>72.61</td><td>0.57</td><td>8.22</td><td>0.0</td><td>0.0</td></tr><tr><th>5</th><td>1.51742</td><td>13.27</td><td>3.62</td><td>1.24</td><td>73.08</td><td>0.55</td><td>8.07</td><td>0.0</td><td>0.0</td></tr><tr><th>6</th><td>1.51596</td><td>12.79</td><td>3.61</td><td>1.62</td><td>72.97</td><td>0.64</td><td>8.07</td><td>0.0</td><td>0.26</td></tr><tr><th>7</th><td>1.51743</td><td>13.3</td><td>3.6</td><td>1.14</td><td>73.09</td><td>0.58</td><td>8.17</td><td>0.0</td><td>0.0</td></tr><tr><th>8</th><td>1.51756</td><td>13.15</td><td>3.61</td><td>1.05</td><td>73.24</td><td>0.57</td><td>8.24</td><td>0.0</td><td>0.0</td></tr><tr><th>9</th><td>1.51918</td><td>14.04</td><td>3.58</td><td>1.37</td><td>72.08</td><td>0.56</td><td>8.3</td><td>0.0</td><td>0.0</td></tr><tr><th>10</th><td>1.51755</td><td>13.0</td><td>3.6</td><td>1.36</td><td>72.99</td><td>0.57</td><td>8.4</td><td>0.0</td><td>0.11</td></tr></tbody></table>"
      ],
      "text/latex": [
       "\\begin{tabular}{r|cccccccccc}\n",
       "\t& RI & Na & Mg & Al & Si & K & Ca & Ba & Fe & \\\\\n",
       "\t\\hline\n",
       "\t& Float64 & Float64 & Float64 & Float64 & Float64 & Float64 & Float64 & Float64 & Float64 & \\\\\n",
       "\t\\hline\n",
       "\t1 & 1.52101 & 13.64 & 4.49 & 1.1 & 71.78 & 0.06 & 8.75 & 0.0 & 0.0 & $\\dots$ \\\\\n",
       "\t2 & 1.51761 & 13.89 & 3.6 & 1.36 & 72.73 & 0.48 & 7.83 & 0.0 & 0.0 & $\\dots$ \\\\\n",
       "\t3 & 1.51618 & 13.53 & 3.55 & 1.54 & 72.99 & 0.39 & 7.78 & 0.0 & 0.0 & $\\dots$ \\\\\n",
       "\t4 & 1.51766 & 13.21 & 3.69 & 1.29 & 72.61 & 0.57 & 8.22 & 0.0 & 0.0 & $\\dots$ \\\\\n",
       "\t5 & 1.51742 & 13.27 & 3.62 & 1.24 & 73.08 & 0.55 & 8.07 & 0.0 & 0.0 & $\\dots$ \\\\\n",
       "\t6 & 1.51596 & 12.79 & 3.61 & 1.62 & 72.97 & 0.64 & 8.07 & 0.0 & 0.26 & $\\dots$ \\\\\n",
       "\t7 & 1.51743 & 13.3 & 3.6 & 1.14 & 73.09 & 0.58 & 8.17 & 0.0 & 0.0 & $\\dots$ \\\\\n",
       "\t8 & 1.51756 & 13.15 & 3.61 & 1.05 & 73.24 & 0.57 & 8.24 & 0.0 & 0.0 & $\\dots$ \\\\\n",
       "\t9 & 1.51918 & 14.04 & 3.58 & 1.37 & 72.08 & 0.56 & 8.3 & 0.0 & 0.0 & $\\dots$ \\\\\n",
       "\t10 & 1.51755 & 13.0 & 3.6 & 1.36 & 72.99 & 0.57 & 8.4 & 0.0 & 0.11 & $\\dots$ \\\\\n",
       "\\end{tabular}\n"
      ],
      "text/plain": [
       "10×10 DataFrame. Omitted printing of 3 columns\n",
       "│ Row │ RI      │ Na      │ Mg      │ Al      │ Si      │ K       │ Ca      │\n",
       "│     │ \u001b[90mFloat64\u001b[39m │ \u001b[90mFloat64\u001b[39m │ \u001b[90mFloat64\u001b[39m │ \u001b[90mFloat64\u001b[39m │ \u001b[90mFloat64\u001b[39m │ \u001b[90mFloat64\u001b[39m │ \u001b[90mFloat64\u001b[39m │\n",
       "├─────┼─────────┼─────────┼─────────┼─────────┼─────────┼─────────┼─────────┤\n",
       "│ 1   │ 1.52101 │ 13.64   │ 4.49    │ 1.1     │ 71.78   │ 0.06    │ 8.75    │\n",
       "│ 2   │ 1.51761 │ 13.89   │ 3.6     │ 1.36    │ 72.73   │ 0.48    │ 7.83    │\n",
       "│ 3   │ 1.51618 │ 13.53   │ 3.55    │ 1.54    │ 72.99   │ 0.39    │ 7.78    │\n",
       "│ 4   │ 1.51766 │ 13.21   │ 3.69    │ 1.29    │ 72.61   │ 0.57    │ 8.22    │\n",
       "│ 5   │ 1.51742 │ 13.27   │ 3.62    │ 1.24    │ 73.08   │ 0.55    │ 8.07    │\n",
       "│ 6   │ 1.51596 │ 12.79   │ 3.61    │ 1.62    │ 72.97   │ 0.64    │ 8.07    │\n",
       "│ 7   │ 1.51743 │ 13.3    │ 3.6     │ 1.14    │ 73.09   │ 0.58    │ 8.17    │\n",
       "│ 8   │ 1.51756 │ 13.15   │ 3.61    │ 1.05    │ 73.24   │ 0.57    │ 8.24    │\n",
       "│ 9   │ 1.51918 │ 14.04   │ 3.58    │ 1.37    │ 72.08   │ 0.56    │ 8.3     │\n",
       "│ 10  │ 1.51755 │ 13.0    │ 3.6     │ 1.36    │ 72.99   │ 0.57    │ 8.4     │"
      ]
     },
     "execution_count": 50,
     "metadata": {},
     "output_type": "execute_result"
    }
   ],
   "source": [
    "df = CSV.read(download(\"https://raw.githubusercontent.com/VinitaSilaparasetty/decision-tree-julia/main/glass.csv\"))\n",
    "first(df,10)"
   ]
  },
  {
   "cell_type": "markdown",
   "metadata": {},
   "source": [
    "#### Summary Statistics"
   ]
  },
  {
   "cell_type": "code",
   "execution_count": 36,
   "metadata": {},
   "outputs": [
    {
     "data": {
      "text/html": [
       "<table class=\"data-frame\"><thead><tr><th></th><th>variable</th><th>mean</th><th>min</th><th>median</th><th>max</th><th>nunique</th><th>nmissing</th><th>eltype</th></tr><tr><th></th><th>Symbol</th><th>Float64</th><th>Real</th><th>Float64</th><th>Real</th><th>Nothing</th><th>Nothing</th><th>DataType</th></tr></thead><tbody><p>10 rows × 8 columns</p><tr><th>1</th><td>RI</td><td>1.51837</td><td>1.51115</td><td>1.51768</td><td>1.53393</td><td></td><td></td><td>Float64</td></tr><tr><th>2</th><td>Na</td><td>13.4079</td><td>10.73</td><td>13.3</td><td>17.38</td><td></td><td></td><td>Float64</td></tr><tr><th>3</th><td>Mg</td><td>2.68453</td><td>0.0</td><td>3.48</td><td>4.49</td><td></td><td></td><td>Float64</td></tr><tr><th>4</th><td>Al</td><td>1.44491</td><td>0.29</td><td>1.36</td><td>3.5</td><td></td><td></td><td>Float64</td></tr><tr><th>5</th><td>Si</td><td>72.6509</td><td>69.81</td><td>72.79</td><td>75.41</td><td></td><td></td><td>Float64</td></tr><tr><th>6</th><td>K</td><td>0.497056</td><td>0.0</td><td>0.555</td><td>6.21</td><td></td><td></td><td>Float64</td></tr><tr><th>7</th><td>Ca</td><td>8.95696</td><td>5.43</td><td>8.6</td><td>16.19</td><td></td><td></td><td>Float64</td></tr><tr><th>8</th><td>Ba</td><td>0.175047</td><td>0.0</td><td>0.0</td><td>3.15</td><td></td><td></td><td>Float64</td></tr><tr><th>9</th><td>Fe</td><td>0.0570093</td><td>0.0</td><td>0.0</td><td>0.51</td><td></td><td></td><td>Float64</td></tr><tr><th>10</th><td>Type</td><td>2.78037</td><td>1</td><td>2.0</td><td>7</td><td></td><td></td><td>Int64</td></tr></tbody></table>"
      ],
      "text/latex": [
       "\\begin{tabular}{r|cccccccc}\n",
       "\t& variable & mean & min & median & max & nunique & nmissing & eltype\\\\\n",
       "\t\\hline\n",
       "\t& Symbol & Float64 & Real & Float64 & Real & Nothing & Nothing & DataType\\\\\n",
       "\t\\hline\n",
       "\t1 & RI & 1.51837 & 1.51115 & 1.51768 & 1.53393 &  &  & Float64 \\\\\n",
       "\t2 & Na & 13.4079 & 10.73 & 13.3 & 17.38 &  &  & Float64 \\\\\n",
       "\t3 & Mg & 2.68453 & 0.0 & 3.48 & 4.49 &  &  & Float64 \\\\\n",
       "\t4 & Al & 1.44491 & 0.29 & 1.36 & 3.5 &  &  & Float64 \\\\\n",
       "\t5 & Si & 72.6509 & 69.81 & 72.79 & 75.41 &  &  & Float64 \\\\\n",
       "\t6 & K & 0.497056 & 0.0 & 0.555 & 6.21 &  &  & Float64 \\\\\n",
       "\t7 & Ca & 8.95696 & 5.43 & 8.6 & 16.19 &  &  & Float64 \\\\\n",
       "\t8 & Ba & 0.175047 & 0.0 & 0.0 & 3.15 &  &  & Float64 \\\\\n",
       "\t9 & Fe & 0.0570093 & 0.0 & 0.0 & 0.51 &  &  & Float64 \\\\\n",
       "\t10 & Type & 2.78037 & 1 & 2.0 & 7 &  &  & Int64 \\\\\n",
       "\\end{tabular}\n"
      ],
      "text/plain": [
       "10×8 DataFrame. Omitted printing of 2 columns\n",
       "│ Row │ variable │ mean      │ min     │ median  │ max     │ nunique │\n",
       "│     │ \u001b[90mSymbol\u001b[39m   │ \u001b[90mFloat64\u001b[39m   │ \u001b[90mReal\u001b[39m    │ \u001b[90mFloat64\u001b[39m │ \u001b[90mReal\u001b[39m    │ \u001b[90mNothing\u001b[39m │\n",
       "├─────┼──────────┼───────────┼─────────┼─────────┼─────────┼─────────┤\n",
       "│ 1   │ RI       │ 1.51837   │ 1.51115 │ 1.51768 │ 1.53393 │         │\n",
       "│ 2   │ Na       │ 13.4079   │ 10.73   │ 13.3    │ 17.38   │         │\n",
       "│ 3   │ Mg       │ 2.68453   │ 0.0     │ 3.48    │ 4.49    │         │\n",
       "│ 4   │ Al       │ 1.44491   │ 0.29    │ 1.36    │ 3.5     │         │\n",
       "│ 5   │ Si       │ 72.6509   │ 69.81   │ 72.79   │ 75.41   │         │\n",
       "│ 6   │ K        │ 0.497056  │ 0.0     │ 0.555   │ 6.21    │         │\n",
       "│ 7   │ Ca       │ 8.95696   │ 5.43    │ 8.6     │ 16.19   │         │\n",
       "│ 8   │ Ba       │ 0.175047  │ 0.0     │ 0.0     │ 3.15    │         │\n",
       "│ 9   │ Fe       │ 0.0570093 │ 0.0     │ 0.0     │ 0.51    │         │\n",
       "│ 10  │ Type     │ 2.78037   │ 1       │ 2.0     │ 7       │         │"
      ]
     },
     "execution_count": 36,
     "metadata": {},
     "output_type": "execute_result"
    }
   ],
   "source": [
    "describe(df)"
   ]
  },
  {
   "cell_type": "markdown",
   "metadata": {},
   "source": [
    "#### Split Data"
   ]
  },
  {
   "cell_type": "code",
   "execution_count": 51,
   "metadata": {},
   "outputs": [
    {
     "data": {
      "text/plain": [
       "(97×10 DataFrame. Omitted printing of 3 columns\n",
       "│ Row │ RI      │ Na      │ Mg      │ Al      │ Si      │ K       │ Ca      │\n",
       "│     │ \u001b[90mFloat64\u001b[39m │ \u001b[90mFloat64\u001b[39m │ \u001b[90mFloat64\u001b[39m │ \u001b[90mFloat64\u001b[39m │ \u001b[90mFloat64\u001b[39m │ \u001b[90mFloat64\u001b[39m │ \u001b[90mFloat64\u001b[39m │\n",
       "├─────┼─────────┼─────────┼─────────┼─────────┼─────────┼─────────┼─────────┤\n",
       "│ 1   │ 1.52101 │ 13.64   │ 4.49    │ 1.1     │ 71.78   │ 0.06    │ 8.75    │\n",
       "│ 2   │ 1.51766 │ 13.21   │ 3.69    │ 1.29    │ 72.61   │ 0.57    │ 8.22    │\n",
       "│ 3   │ 1.51742 │ 13.27   │ 3.62    │ 1.24    │ 73.08   │ 0.55    │ 8.07    │\n",
       "│ 4   │ 1.51596 │ 12.79   │ 3.61    │ 1.62    │ 72.97   │ 0.64    │ 8.07    │\n",
       "│ 5   │ 1.51756 │ 13.15   │ 3.61    │ 1.05    │ 73.24   │ 0.57    │ 8.24    │\n",
       "│ 6   │ 1.51571 │ 12.72   │ 3.46    │ 1.56    │ 73.2    │ 0.67    │ 8.09    │\n",
       "│ 7   │ 1.51589 │ 12.88   │ 3.43    │ 1.4     │ 73.28   │ 0.69    │ 8.05    │\n",
       "│ 8   │ 1.51748 │ 12.86   │ 3.56    │ 1.27    │ 73.21   │ 0.54    │ 8.38    │\n",
       "│ 9   │ 1.51763 │ 12.61   │ 3.59    │ 1.31    │ 73.29   │ 0.58    │ 8.5     │\n",
       "│ 10  │ 1.51761 │ 12.81   │ 3.54    │ 1.23    │ 73.24   │ 0.58    │ 8.39    │\n",
       "⋮\n",
       "│ 87  │ 1.51609 │ 15.01   │ 0.0     │ 2.51    │ 73.05   │ 0.05    │ 8.83    │\n",
       "│ 88  │ 1.51653 │ 11.95   │ 0.0     │ 1.19    │ 75.18   │ 2.7     │ 8.93    │\n",
       "│ 89  │ 1.51658 │ 14.8    │ 0.0     │ 1.99    │ 73.11   │ 0.0     │ 8.28    │\n",
       "│ 90  │ 1.51617 │ 14.95   │ 0.0     │ 2.27    │ 73.3    │ 0.0     │ 8.71    │\n",
       "│ 91  │ 1.51645 │ 14.94   │ 0.0     │ 1.87    │ 73.11   │ 0.0     │ 8.67    │\n",
       "│ 92  │ 1.51831 │ 14.39   │ 0.0     │ 1.82    │ 72.86   │ 1.41    │ 6.47    │\n",
       "│ 93  │ 1.5164  │ 14.37   │ 0.0     │ 2.74    │ 72.85   │ 0.0     │ 9.45    │\n",
       "│ 94  │ 1.51623 │ 14.14   │ 0.0     │ 2.88    │ 72.61   │ 0.08    │ 9.18    │\n",
       "│ 95  │ 1.51685 │ 14.92   │ 0.0     │ 1.99    │ 73.06   │ 0.0     │ 8.4     │\n",
       "│ 96  │ 1.52065 │ 14.36   │ 0.0     │ 2.02    │ 73.42   │ 0.0     │ 8.44    │\n",
       "│ 97  │ 1.51711 │ 14.23   │ 0.0     │ 2.08    │ 73.36   │ 0.0     │ 8.62    │, 117×10 DataFrame. Omitted printing of 3 columns\n",
       "│ Row │ RI      │ Na      │ Mg      │ Al      │ Si      │ K       │ Ca      │\n",
       "│     │ \u001b[90mFloat64\u001b[39m │ \u001b[90mFloat64\u001b[39m │ \u001b[90mFloat64\u001b[39m │ \u001b[90mFloat64\u001b[39m │ \u001b[90mFloat64\u001b[39m │ \u001b[90mFloat64\u001b[39m │ \u001b[90mFloat64\u001b[39m │\n",
       "├─────┼─────────┼─────────┼─────────┼─────────┼─────────┼─────────┼─────────┤\n",
       "│ 1   │ 1.51761 │ 13.89   │ 3.6     │ 1.36    │ 72.73   │ 0.48    │ 7.83    │\n",
       "│ 2   │ 1.51618 │ 13.53   │ 3.55    │ 1.54    │ 72.99   │ 0.39    │ 7.78    │\n",
       "│ 3   │ 1.51743 │ 13.3    │ 3.6     │ 1.14    │ 73.09   │ 0.58    │ 8.17    │\n",
       "│ 4   │ 1.51918 │ 14.04   │ 3.58    │ 1.37    │ 72.08   │ 0.56    │ 8.3     │\n",
       "│ 5   │ 1.51755 │ 13.0    │ 3.6     │ 1.36    │ 72.99   │ 0.57    │ 8.4     │\n",
       "│ 6   │ 1.51763 │ 12.8    │ 3.66    │ 1.27    │ 73.01   │ 0.6     │ 8.56    │\n",
       "│ 7   │ 1.51911 │ 13.9    │ 3.73    │ 1.18    │ 72.12   │ 0.06    │ 8.89    │\n",
       "│ 8   │ 1.5175  │ 12.82   │ 3.55    │ 1.49    │ 72.75   │ 0.54    │ 8.52    │\n",
       "│ 9   │ 1.51736 │ 12.78   │ 3.62    │ 1.29    │ 72.79   │ 0.59    │ 8.7     │\n",
       "│ 10  │ 1.51751 │ 12.81   │ 3.57    │ 1.35    │ 73.02   │ 0.62    │ 8.59    │\n",
       "⋮\n",
       "│ 107 │ 1.52365 │ 15.79   │ 1.83    │ 1.31    │ 70.43   │ 0.31    │ 8.61    │\n",
       "│ 108 │ 1.51602 │ 14.85   │ 0.0     │ 2.38    │ 73.28   │ 0.0     │ 8.76    │\n",
       "│ 109 │ 1.51623 │ 14.2    │ 0.0     │ 2.79    │ 73.46   │ 0.04    │ 9.04    │\n",
       "│ 110 │ 1.51719 │ 14.75   │ 0.0     │ 2.0     │ 73.02   │ 0.0     │ 8.53    │\n",
       "│ 111 │ 1.51545 │ 14.14   │ 0.0     │ 2.68    │ 73.39   │ 0.08    │ 9.07    │\n",
       "│ 112 │ 1.51727 │ 14.7    │ 0.0     │ 2.34    │ 73.28   │ 0.0     │ 8.95    │\n",
       "│ 113 │ 1.51531 │ 14.38   │ 0.0     │ 2.66    │ 73.1    │ 0.04    │ 9.08    │\n",
       "│ 114 │ 1.51508 │ 15.15   │ 0.0     │ 2.25    │ 73.5    │ 0.0     │ 8.34    │\n",
       "│ 115 │ 1.51514 │ 14.85   │ 0.0     │ 2.42    │ 73.72   │ 0.0     │ 8.39    │\n",
       "│ 116 │ 1.51732 │ 14.95   │ 0.0     │ 1.8     │ 72.99   │ 0.0     │ 8.61    │\n",
       "│ 117 │ 1.51651 │ 14.38   │ 0.0     │ 1.94    │ 73.61   │ 0.0     │ 8.48    │)"
      ]
     },
     "execution_count": 51,
     "metadata": {},
     "output_type": "execute_result"
    }
   ],
   "source": [
    "using Lathe.preprocess: TrainTestSplit\n",
    "train,test = TrainTestSplit(df, .50)"
   ]
  },
  {
   "cell_type": "markdown",
   "metadata": {},
   "source": [
    "#### Feature Selection"
   ]
  },
  {
   "cell_type": "code",
   "execution_count": 52,
   "metadata": {},
   "outputs": [
    {
     "data": {
      "text/plain": [
       "97-element Array{Float64,1}:\n",
       " 1.0\n",
       " 1.0\n",
       " 1.0\n",
       " 1.0\n",
       " 1.0\n",
       " 1.0\n",
       " 1.0\n",
       " 1.0\n",
       " 1.0\n",
       " 1.0\n",
       " 1.0\n",
       " 1.0\n",
       " 1.0\n",
       " ⋮\n",
       " 7.0\n",
       " 7.0\n",
       " 7.0\n",
       " 7.0\n",
       " 7.0\n",
       " 7.0\n",
       " 7.0\n",
       " 7.0\n",
       " 7.0\n",
       " 7.0\n",
       " 7.0\n",
       " 7.0"
      ]
     },
     "execution_count": 52,
     "metadata": {},
     "output_type": "execute_result"
    }
   ],
   "source": [
    "features= Array(train[:, [:RI, :Na, :Mg, :Al, :Si, :K, :Ca, :Ba, :Fe]])\n",
    "labels=Array(train[:Type])\n",
    "features=float.(features)\n",
    "labels=float.(labels)"
   ]
  },
  {
   "cell_type": "code",
   "execution_count": 53,
   "metadata": {},
   "outputs": [
    {
     "data": {
      "text/plain": [
       "117-element Array{Float64,1}:\n",
       " 1.0\n",
       " 1.0\n",
       " 1.0\n",
       " 1.0\n",
       " 1.0\n",
       " 1.0\n",
       " 1.0\n",
       " 1.0\n",
       " 1.0\n",
       " 1.0\n",
       " 1.0\n",
       " 1.0\n",
       " 1.0\n",
       " ⋮\n",
       " 7.0\n",
       " 7.0\n",
       " 7.0\n",
       " 7.0\n",
       " 7.0\n",
       " 7.0\n",
       " 7.0\n",
       " 7.0\n",
       " 7.0\n",
       " 7.0\n",
       " 7.0\n",
       " 7.0"
      ]
     },
     "execution_count": 53,
     "metadata": {},
     "output_type": "execute_result"
    }
   ],
   "source": [
    "features1= Array(test[:, [:RI, :Na, :Mg, :Al, :Si, :K, :Ca, :Ba, :Fe]])\n",
    "labels1=Array(test[:Type])\n",
    "features1= float.(features1)\n",
    "labels1=float.(labels1)"
   ]
  },
  {
   "cell_type": "markdown",
   "metadata": {},
   "source": [
    "#### Stump"
   ]
  },
  {
   "cell_type": "markdown",
   "metadata": {},
   "source": [
    "<center>\n",
    "   <img src=\"https://raw.githubusercontent.com/VinitaSilaparasetty/decision-tree-julia/main/decision%20stump.png\" width=\"700\" height=\"700\">"
   ]
  },
  {
   "cell_type": "code",
   "execution_count": 54,
   "metadata": {},
   "outputs": [
    {
     "name": "stdout",
     "output_type": "stream",
     "text": [
      "Feature 3, Threshold 2.56\n",
      "L-> 5.580645161290323 : 0/31\n",
      "R-> 1.6666666666666667 : 0/66\n"
     ]
    }
   ],
   "source": [
    "stump=build_stump(labels, features)\n",
    "print_tree(stump)"
   ]
  },
  {
   "cell_type": "code",
   "execution_count": 55,
   "metadata": {},
   "outputs": [
    {
     "name": "stdout",
     "output_type": "stream",
     "text": [
      "Feature 8, Threshold 0.275\n",
      "L-> 2.144230769230769 : 0/104\n",
      "R-> 6.846153846153846 : 0/13\n"
     ]
    }
   ],
   "source": [
    "stump1=build_stump(labels1, features1)\n",
    "print_tree(stump1)"
   ]
  },
  {
   "cell_type": "markdown",
   "metadata": {},
   "source": [
    "#### Make Predictions"
   ]
  },
  {
   "cell_type": "code",
   "execution_count": 57,
   "metadata": {},
   "outputs": [
    {
     "data": {
      "text/plain": [
       "8×8 Array{Int64,2}:\n",
       " 0  33  0  0  0   0  0  0\n",
       " 0   0  0  0  0   0  0  0\n",
       " 0  26  0  0  0   6  0  0\n",
       " 0   6  0  0  0   0  0  0\n",
       " 0   0  0  0  0   4  0  0\n",
       " 0   0  0  0  0   0  0  0\n",
       " 0   0  0  0  0   6  0  0\n",
       " 0   1  0  0  0  15  0  0"
      ]
     },
     "metadata": {},
     "output_type": "display_data"
    },
    {
     "data": {
      "text/plain": [
       "Classes:  [1.0, 1.6666666666666667, 2.0, 3.0, 5.0, 5.580645161290323, 6.0, 7.0]\n",
       "Matrix:   \n",
       "Accuracy: 0.0\n",
       "Kappa:    0.0"
      ]
     },
     "execution_count": 57,
     "metadata": {},
     "output_type": "execute_result"
    }
   ],
   "source": [
    "predictions=apply_tree(stump, features)\n",
    "confusion_matrix(labels,predictions)"
   ]
  },
  {
   "cell_type": "code",
   "execution_count": 60,
   "metadata": {},
   "outputs": [
    {
     "data": {
      "text/plain": [
       "8×8 Array{Int64,2}:\n",
       " 0  0  37  0  0  0   0  0\n",
       " 0  0  44  0  0  0   0  0\n",
       " 0  0   0  0  0  0   0  0\n",
       " 0  0  11  0  0  0   0  0\n",
       " 0  0   8  0  0  0   1  0\n",
       " 0  0   3  0  0  0   0  0\n",
       " 0  0   0  0  0  0   0  0\n",
       " 0  0   1  0  0  0  12  0"
      ]
     },
     "metadata": {},
     "output_type": "display_data"
    },
    {
     "data": {
      "text/plain": [
       "Classes:  [1.0, 2.0, 2.144230769230769, 3.0, 5.0, 6.0, 6.846153846153846, 7.0]\n",
       "Matrix:   \n",
       "Accuracy: 0.0\n",
       "Kappa:    0.0"
      ]
     },
     "execution_count": 60,
     "metadata": {},
     "output_type": "execute_result"
    }
   ],
   "source": [
    "predictions1=apply_tree(stump1, features1)\n",
    "confusion_matrix(labels1, predictions1)"
   ]
  },
  {
   "cell_type": "markdown",
   "metadata": {},
   "source": [
    "### Decision Tree"
   ]
  },
  {
   "cell_type": "markdown",
   "metadata": {},
   "source": [
    "<center>\n",
    "   <img src=\"https://raw.githubusercontent.com/VinitaSilaparasetty/decision-tree-julia/main/treealgo.png\" width=\"700\" height=\"700\">"
   ]
  },
  {
   "cell_type": "code",
   "execution_count": 61,
   "metadata": {},
   "outputs": [
    {
     "name": "stdout",
     "output_type": "stream",
     "text": [
      "Feature 3, Threshold 2.56\n",
      "L-> Feature 2, Threshold 13.77\n",
      "    L-> Feature 1, Threshold 1.5217399999999999\n",
      "        L-> 4.8 : 0/5\n",
      "        R-> 2.5 : 0/6\n",
      "    R-> Feature 4, Threshold 1.725\n",
      "        L-> 6.0 : 6/6\n",
      "        R-> 7.0 : 14/14\n",
      "R-> Feature 4, Threshold 1.655\n",
      "    L-> Feature 1, Threshold 1.517155\n",
      "        L-> Feature 2, Threshold 12.885000000000002\n",
      "            L-> 1.4 : 0/5\n",
      "            R-> Feature 5, Threshold 72.82\n",
      "                L-> 2.2 : 0/5\n",
      "                R-> 2.0 : 10/10\n",
      "        R-> Feature 2, Threshold 13.504999999999999\n",
      "            L-> Feature 1, Threshold 1.517865\n",
      "                L-> 1.0 : 16/16\n",
      "                R-> Feature 7, Threshold 8.91\n",
      "                    L-> 1.875 : 0/8\n",
      "                    R-> 1.0 : 6/6\n",
      "            R-> Feature 1, Threshold 1.519355\n",
      "                L-> 2.4 : 0/5\n",
      "                R-> 1.3333333333333333 : 0/6\n",
      "    R-> 3.0 : 1/5\n"
     ]
    },
    {
     "data": {
      "text/plain": [
       "13"
      ]
     },
     "execution_count": 61,
     "metadata": {},
     "output_type": "execute_result"
    }
   ],
   "source": [
    "tree=build_tree(labels,features)\n",
    "print_tree(tree)\n",
    "length(tree)"
   ]
  },
  {
   "cell_type": "code",
   "execution_count": 62,
   "metadata": {},
   "outputs": [
    {
     "name": "stdout",
     "output_type": "stream",
     "text": [
      "\n",
      "Fold 1\n",
      "Mean Squared Error:     1.8143274853801172\n",
      "Correlation Coeff:      0.8774031479962294\n",
      "Coeff of Determination: 0.6160772437149927\n",
      "\n",
      "Fold 2\n",
      "Mean Squared Error:     0.750246913580247\n",
      "Correlation Coeff:      0.9122557350274401\n",
      "Coeff of Determination: 0.7877436239792561\n",
      "\n",
      "Fold 3\n",
      "Mean Squared Error:     1.703157894736842\n",
      "Correlation Coeff:      0.8650085259629174\n",
      "Coeff of Determination: 0.7212873980054397\n",
      "\n",
      "Fold 4\n",
      "Mean Squared Error:     2.5342893112410656\n",
      "Correlation Coeff:      0.7654561110109375\n",
      "Coeff of Determination: 0.5189913557528787\n",
      "\n",
      "Fold 5\n",
      "Mean Squared Error:     2.068700322234157\n",
      "Correlation Coeff:      0.758129942675605\n",
      "Coeff of Determination: 0.5355716316377297\n",
      "\n",
      "Mean Coeff of Determination: 0.6359342506180594\n"
     ]
    },
    {
     "data": {
      "text/plain": [
       "5-element Array{Float64,1}:\n",
       " 0.6160772437149927\n",
       " 0.7877436239792561\n",
       " 0.7212873980054397\n",
       " 0.5189913557528787\n",
       " 0.5355716316377297"
      ]
     },
     "execution_count": 62,
     "metadata": {},
     "output_type": "execute_result"
    }
   ],
   "source": [
    "accuracy=nfoldCV_tree(labels,features,5)"
   ]
  },
  {
   "cell_type": "code",
   "execution_count": 63,
   "metadata": {},
   "outputs": [
    {
     "data": {
      "text/plain": [
       "13×13 Array{Int64,2}:\n",
       " 18  7  0  4  2  1  5  0  0  0  0  0   0\n",
       "  0  0  0  0  0  0  0  0  0  0  0  0   0\n",
       "  0  0  0  0  0  0  0  0  0  0  0  0   0\n",
       "  0  0  0  0  0  0  0  0  0  0  0  0   0\n",
       "  5  2  3  8  7  4  1  3  7  1  0  3   0\n",
       "  0  0  0  0  0  0  0  0  0  0  0  0   0\n",
       "  0  0  0  0  0  0  0  0  0  0  0  0   0\n",
       "  0  0  0  0  0  0  0  0  0  0  0  0   0\n",
       "  1  2  2  1  1  3  1  0  0  0  0  0   0\n",
       "  0  0  0  0  0  0  0  0  0  0  0  0   0\n",
       "  0  0  0  0  0  0  0  0  1  8  0  0   0\n",
       "  0  0  0  0  0  0  0  0  0  0  0  1   2\n",
       "  0  0  0  1  0  0  0  0  1  0  0  1  10"
      ]
     },
     "metadata": {},
     "output_type": "display_data"
    },
    {
     "data": {
      "text/plain": [
       "Classes:  [1.0, 1.3333333333333333, 1.4, 1.875, 2.0, 2.2, 2.4, 2.5, 3.0, 4.8, 5.0, 6.0, 7.0]\n",
       "Matrix:   \n",
       "Accuracy: 0.3076923076923077\n",
       "Kappa:    0.21619386320403608"
      ]
     },
     "execution_count": 63,
     "metadata": {},
     "output_type": "execute_result"
    }
   ],
   "source": [
    "preds=apply_tree(tree,features1)\n",
    "confusion_matrix(labels1,preds)"
   ]
  },
  {
   "cell_type": "markdown",
   "metadata": {},
   "source": [
    "### Pruning"
   ]
  },
  {
   "cell_type": "markdown",
   "metadata": {},
   "source": [
    "<center>\n",
    "   <img src=\"https://raw.githubusercontent.com/VinitaSilaparasetty/decision-tree-julia/main/Pruning.png\" width=\"700\" height=\"700\">"
   ]
  },
  {
   "cell_type": "code",
   "execution_count": 65,
   "metadata": {},
   "outputs": [
    {
     "name": "stdout",
     "output_type": "stream",
     "text": [
      "Feature 3, Threshold 2.56\n",
      "L-> Feature 2, Threshold 13.77\n",
      "    L-> Feature 1, Threshold 1.5217399999999999\n",
      "        L-> 4.8 : 0/5\n",
      "        R-> 2.5 : 0/6\n",
      "    R-> Feature 4, Threshold 1.725\n",
      "        L-> 6.0 : 6/6\n",
      "        R-> 7.0 : 14/14\n",
      "R-> Feature 4, Threshold 1.655\n",
      "    L-> Feature 1, Threshold 1.517155\n",
      "        L-> Feature 2, Threshold 12.885000000000002\n",
      "            L-> 1.4 : 0/5\n",
      "            R-> 2.0 : 14/15\n",
      "        R-> Feature 2, Threshold 13.504999999999999\n",
      "            L-> Feature 1, Threshold 1.517865\n",
      "                L-> 1.0 : 16/16\n",
      "                R-> Feature 7, Threshold 8.91\n",
      "                    L-> 1.875 : 0/8\n",
      "                    R-> 1.0 : 6/6\n",
      "            R-> Feature 1, Threshold 1.519355\n",
      "                L-> 2.4 : 0/5\n",
      "                R-> 1.3333333333333333 : 0/6\n",
      "    R-> 3.0 : 1/5\n"
     ]
    },
    {
     "data": {
      "text/plain": [
       "12"
      ]
     },
     "execution_count": 65,
     "metadata": {},
     "output_type": "execute_result"
    }
   ],
   "source": [
    "tree_new=prune_tree(tree, 0.9)\n",
    "print_tree(tree_new)\n",
    "length(tree_new)"
   ]
  },
  {
   "cell_type": "code",
   "execution_count": 66,
   "metadata": {},
   "outputs": [
    {
     "name": "stdout",
     "output_type": "stream",
     "text": [
      "\n",
      "Fold 1\n",
      "Mean Squared Error:     2.3511605773549356\n",
      "Correlation Coeff:      0.7591200227977047\n",
      "Coeff of Determination: 0.512249433168329\n",
      "\n",
      "Fold 2\n",
      "Mean Squared Error:     1.749992236024845\n",
      "Correlation Coeff:      0.6968208934808096\n",
      "Coeff of Determination: 0.45222136517328826\n",
      "\n",
      "Fold 3\n",
      "Mean Squared Error:     1.3221125201288244\n",
      "Correlation Coeff:      0.8656438335140884\n",
      "Coeff of Determination: 0.7464113404103887\n",
      "\n",
      "Fold 4\n",
      "Mean Squared Error:     4.7505434782608695\n",
      "Correlation Coeff:      0.3750706510230698\n",
      "Coeff of Determination: -2.125668532338307\n",
      "\n",
      "Fold 5\n",
      "Mean Squared Error:     4.334066405950463\n",
      "Correlation Coeff:      0.19671967494660123\n",
      "Coeff of Determination: -0.44742495501754664\n",
      "\n",
      "Mean Coeff of Determination: -0.17244226972076948\n"
     ]
    },
    {
     "data": {
      "text/plain": [
       "5-element Array{Float64,1}:\n",
       "  0.512249433168329\n",
       "  0.45222136517328826\n",
       "  0.7464113404103887\n",
       " -2.125668532338307\n",
       " -0.44742495501754664"
      ]
     },
     "execution_count": 66,
     "metadata": {},
     "output_type": "execute_result"
    }
   ],
   "source": [
    "preds1=apply_tree(tree_new,features1)\n",
    "accuracy1=nfoldCV_tree(labels1,features1,5)"
   ]
  },
  {
   "cell_type": "markdown",
   "metadata": {},
   "source": [
    "### Random Forest"
   ]
  },
  {
   "cell_type": "code",
   "execution_count": 67,
   "metadata": {},
   "outputs": [
    {
     "name": "stdout",
     "output_type": "stream",
     "text": [
      "\n",
      "Fold 1\n",
      "Mean Squared Error:     0.9152517223117317\n",
      "Correlation Coeff:      0.9382105863532222\n",
      "Coeff of Determination: 0.8480193782177852\n",
      "\n",
      "Fold 2\n",
      "Mean Squared Error:     0.7724579673389824\n",
      "Correlation Coeff:      0.9553063915647808\n",
      "Coeff of Determination: 0.8798028766338911\n",
      "\n",
      "Fold 3\n",
      "Mean Squared Error:     2.5200396464043706\n",
      "Correlation Coeff:      0.6340097804025255\n",
      "Coeff of Determination: 0.3023509874601398\n",
      "\n",
      "Fold 4\n",
      "Mean Squared Error:     1.536845012000902\n",
      "Correlation Coeff:      0.772792275701116\n",
      "Coeff of Determination: 0.5872016001991625\n",
      "\n",
      "Fold 5\n",
      "Mean Squared Error:     2.7304493950650435\n",
      "Correlation Coeff:      0.5806975647375183\n",
      "Coeff of Determination: 0.3048714868699005\n",
      "\n",
      "Mean Coeff of Determination: 0.5844492658761758\n"
     ]
    },
    {
     "data": {
      "text/plain": [
       "5-element Array{Float64,1}:\n",
       " 0.8480193782177852\n",
       " 0.8798028766338911\n",
       " 0.3023509874601398\n",
       " 0.5872016001991625\n",
       " 0.3048714868699005"
      ]
     },
     "execution_count": 67,
     "metadata": {},
     "output_type": "execute_result"
    }
   ],
   "source": [
    "n_subfeatures=-1;n_trees=10;partial_sampling=0.7;max_depth=-1;min_samples_leaf=5;min_samples_split=2; min_purity_increase=0.0\n",
    "forest=build_forest(labels,features,rng=3)\n",
    "accuracy=nfoldCV_forest(labels,features,5)"
   ]
  },
  {
   "cell_type": "code",
   "execution_count": 68,
   "metadata": {},
   "outputs": [
    {
     "data": {
      "text/plain": [
       "Ensemble of Decision Trees\n",
       "Trees:      10\n",
       "Avg Leaves: 3.9\n",
       "Avg Depth:  2.0"
      ]
     },
     "execution_count": 68,
     "metadata": {},
     "output_type": "execute_result"
    }
   ],
   "source": [
    "n_subfeatures=-1;n_trees=10;partial_sampling=0.7;min_samples_leaf=2;min_samples_split=1; min_purity_increase=5\n",
    "forest=build_forest(labels,features,n_subfeatures, n_trees, partial_sampling, min_samples_leaf, min_samples_split, min_purity_increase, rng=3)\n"
   ]
  },
  {
   "cell_type": "code",
   "execution_count": 69,
   "metadata": {},
   "outputs": [
    {
     "name": "stdout",
     "output_type": "stream",
     "text": [
      "\n",
      "Fold 1\n",
      "Mean Squared Error:     1.0900289539158745\n",
      "Correlation Coeff:      0.9442884466407987\n",
      "Coeff of Determination: 0.8189970320314487\n",
      "\n",
      "Fold 2\n",
      "Mean Squared Error:     0.5168001514202171\n",
      "Correlation Coeff:      0.9727186766361744\n",
      "Coeff of Determination: 0.9195841143695266\n",
      "\n",
      "Fold 3\n",
      "Mean Squared Error:     2.0204384032999165\n",
      "Correlation Coeff:      0.7070830500012194\n",
      "Coeff of Determination: 0.44066084080424095\n",
      "\n",
      "Fold 4\n",
      "Mean Squared Error:     1.621632672206309\n",
      "Correlation Coeff:      0.7556631843898465\n",
      "Coeff of Determination: 0.5644275337302995\n",
      "\n",
      "Fold 5\n",
      "Mean Squared Error:     2.4458422415164898\n",
      "Correlation Coeff:      0.6248717432970388\n",
      "Coeff of Determination: 0.377327891969356\n",
      "\n",
      "Mean Coeff of Determination: 0.6241994825809744\n"
     ]
    },
    {
     "data": {
      "text/plain": [
       "5-element Array{Float64,1}:\n",
       " 0.8189970320314487\n",
       " 0.9195841143695266\n",
       " 0.44066084080424095\n",
       " 0.5644275337302995\n",
       " 0.377327891969356"
      ]
     },
     "execution_count": 69,
     "metadata": {},
     "output_type": "execute_result"
    }
   ],
   "source": [
    "accuracy1=nfoldCV_forest(labels,features,5)"
   ]
  },
  {
   "cell_type": "code",
   "execution_count": null,
   "metadata": {},
   "outputs": [],
   "source": []
  }
 ],
 "metadata": {
  "kernelspec": {
   "display_name": "Julia 1.5.3",
   "language": "julia",
   "name": "julia-1.5"
  },
  "language_info": {
   "file_extension": ".jl",
   "mimetype": "application/julia",
   "name": "julia",
   "version": "1.5.3"
  }
 },
 "nbformat": 4,
 "nbformat_minor": 4
}
